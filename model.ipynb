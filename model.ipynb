{
 "cells": [
  {
   "cell_type": "code",
   "execution_count": 1,
   "metadata": {
    "comment": "Importing necessary libraries and modules for the notebook."
   },
   "outputs": [],
   "source": [
    "import numpy as np\n",
    "import pandas as pd\n",
    "import matplotlib.pyplot as plt\n",
    "import seaborn as sns"
   ]
  },
  {
   "cell_type": "markdown",
   "metadata": {},
   "source": [
    "### Load Data"
   ]
  },
  {
   "cell_type": "code",
   "execution_count": 2,
   "metadata": {},
   "outputs": [
    {
     "data": {
      "text/html": [
       "<div>\n",
       "<style scoped>\n",
       "    .dataframe tbody tr th:only-of-type {\n",
       "        vertical-align: middle;\n",
       "    }\n",
       "\n",
       "    .dataframe tbody tr th {\n",
       "        vertical-align: top;\n",
       "    }\n",
       "\n",
       "    .dataframe thead th {\n",
       "        text-align: right;\n",
       "    }\n",
       "</style>\n",
       "<table border=\"1\" class=\"dataframe\">\n",
       "  <thead>\n",
       "    <tr style=\"text-align: right;\">\n",
       "      <th></th>\n",
       "      <th>Time(year-month-day h:m:s)</th>\n",
       "      <th>Total solar irradiance (W/m2)</th>\n",
       "      <th>Direct normal irradiance (W/m2)</th>\n",
       "      <th>Global horizontal irradiance (W/m2)</th>\n",
       "      <th>Air temperature  (°C)</th>\n",
       "      <th>Atmosphere (hpa)</th>\n",
       "      <th>Relative humidity (%)</th>\n",
       "      <th>Power (MW)</th>\n",
       "      <th>Nominal Capacity (MW)</th>\n",
       "    </tr>\n",
       "  </thead>\n",
       "  <tbody>\n",
       "    <tr>\n",
       "      <th>0</th>\n",
       "      <td>2019-01-01 00:00:00</td>\n",
       "      <td>0.0</td>\n",
       "      <td>0.0</td>\n",
       "      <td>0.0</td>\n",
       "      <td>4.600000</td>\n",
       "      <td>862.500000</td>\n",
       "      <td>40.970000</td>\n",
       "      <td>0.0</td>\n",
       "      <td>30</td>\n",
       "    </tr>\n",
       "    <tr>\n",
       "      <th>1</th>\n",
       "      <td>2019-01-01 00:15:00</td>\n",
       "      <td>0.0</td>\n",
       "      <td>0.0</td>\n",
       "      <td>0.0</td>\n",
       "      <td>4.600000</td>\n",
       "      <td>862.516000</td>\n",
       "      <td>40.766667</td>\n",
       "      <td>0.0</td>\n",
       "      <td>30</td>\n",
       "    </tr>\n",
       "    <tr>\n",
       "      <th>2</th>\n",
       "      <td>2019-01-01 00:30:00</td>\n",
       "      <td>0.0</td>\n",
       "      <td>0.0</td>\n",
       "      <td>0.0</td>\n",
       "      <td>4.600000</td>\n",
       "      <td>862.476000</td>\n",
       "      <td>40.946667</td>\n",
       "      <td>0.0</td>\n",
       "      <td>30</td>\n",
       "    </tr>\n",
       "    <tr>\n",
       "      <th>3</th>\n",
       "      <td>2019-01-01 00:45:00</td>\n",
       "      <td>0.0</td>\n",
       "      <td>0.0</td>\n",
       "      <td>0.0</td>\n",
       "      <td>4.600000</td>\n",
       "      <td>862.422000</td>\n",
       "      <td>43.413333</td>\n",
       "      <td>0.0</td>\n",
       "      <td>30</td>\n",
       "    </tr>\n",
       "    <tr>\n",
       "      <th>4</th>\n",
       "      <td>2019-01-01 01:00:00</td>\n",
       "      <td>0.0</td>\n",
       "      <td>0.0</td>\n",
       "      <td>0.0</td>\n",
       "      <td>1.946667</td>\n",
       "      <td>862.388667</td>\n",
       "      <td>51.386667</td>\n",
       "      <td>0.0</td>\n",
       "      <td>30</td>\n",
       "    </tr>\n",
       "  </tbody>\n",
       "</table>\n",
       "</div>"
      ],
      "text/plain": [
       "  Time(year-month-day h:m:s)  Total solar irradiance (W/m2)  \\\n",
       "0        2019-01-01 00:00:00                            0.0   \n",
       "1        2019-01-01 00:15:00                            0.0   \n",
       "2        2019-01-01 00:30:00                            0.0   \n",
       "3        2019-01-01 00:45:00                            0.0   \n",
       "4        2019-01-01 01:00:00                            0.0   \n",
       "\n",
       "   Direct normal irradiance (W/m2)  Global horizontal irradiance (W/m2)  \\\n",
       "0                              0.0                                  0.0   \n",
       "1                              0.0                                  0.0   \n",
       "2                              0.0                                  0.0   \n",
       "3                              0.0                                  0.0   \n",
       "4                              0.0                                  0.0   \n",
       "\n",
       "   Air temperature  (°C)   Atmosphere (hpa)  Relative humidity (%)  \\\n",
       "0                4.600000        862.500000              40.970000   \n",
       "1                4.600000        862.516000              40.766667   \n",
       "2                4.600000        862.476000              40.946667   \n",
       "3                4.600000        862.422000              43.413333   \n",
       "4                1.946667        862.388667              51.386667   \n",
       "\n",
       "   Power (MW)  Nominal Capacity (MW)  \n",
       "0         0.0                     30  \n",
       "1         0.0                     30  \n",
       "2         0.0                     30  \n",
       "3         0.0                     30  \n",
       "4         0.0                     30  "
      ]
     },
     "execution_count": 2,
     "metadata": {},
     "output_type": "execute_result"
    }
   ],
   "source": [
    "df_solar = pd.read_csv('./combined_solar_data.csv')\n",
    "df_solar.head()"
   ]
  },
  {
   "cell_type": "code",
   "execution_count": 3,
   "metadata": {},
   "outputs": [
    {
     "data": {
      "text/html": [
       "<div>\n",
       "<style scoped>\n",
       "    .dataframe tbody tr th:only-of-type {\n",
       "        vertical-align: middle;\n",
       "    }\n",
       "\n",
       "    .dataframe tbody tr th {\n",
       "        vertical-align: top;\n",
       "    }\n",
       "\n",
       "    .dataframe thead th {\n",
       "        text-align: right;\n",
       "    }\n",
       "</style>\n",
       "<table border=\"1\" class=\"dataframe\">\n",
       "  <thead>\n",
       "    <tr style=\"text-align: right;\">\n",
       "      <th></th>\n",
       "      <th>Time(year-month-day h:m:s)</th>\n",
       "      <th>Wind speed at height of 10 meters (m/s)</th>\n",
       "      <th>Wind direction at height of 10 meters (˚)</th>\n",
       "      <th>Wind speed at height of 30 meters (m/s)</th>\n",
       "      <th>Wind direction at height of 30 meters (˚)</th>\n",
       "      <th>Wind speed at height of 50 meters (m/s)</th>\n",
       "      <th>Wind direction at height of 50 meters (˚)</th>\n",
       "      <th>Wind speed - at the height of wheel hub (m/s)</th>\n",
       "      <th>Wind speed at the height of wheel hub (˚)</th>\n",
       "      <th>Air temperature  (°C)</th>\n",
       "      <th>Atmosphere (hpa)</th>\n",
       "      <th>Relative humidity (%)</th>\n",
       "      <th>Power (MW)</th>\n",
       "      <th>Nominal Capacity (MW)</th>\n",
       "    </tr>\n",
       "  </thead>\n",
       "  <tbody>\n",
       "    <tr>\n",
       "      <th>0</th>\n",
       "      <td>2019-01-01 00:00:00</td>\n",
       "      <td>2.209</td>\n",
       "      <td>81.317</td>\n",
       "      <td>1.991</td>\n",
       "      <td>74.814</td>\n",
       "      <td>2.094</td>\n",
       "      <td>77.667</td>\n",
       "      <td>2.494</td>\n",
       "      <td>74.500</td>\n",
       "      <td>-13.484</td>\n",
       "      <td>889.867</td>\n",
       "      <td>76.320</td>\n",
       "      <td>0.254383</td>\n",
       "      <td>99</td>\n",
       "    </tr>\n",
       "    <tr>\n",
       "      <th>1</th>\n",
       "      <td>2019-01-01 00:15:00</td>\n",
       "      <td>1.828</td>\n",
       "      <td>77.460</td>\n",
       "      <td>1.698</td>\n",
       "      <td>75.048</td>\n",
       "      <td>1.757</td>\n",
       "      <td>88.733</td>\n",
       "      <td>1.882</td>\n",
       "      <td>74.367</td>\n",
       "      <td>-13.691</td>\n",
       "      <td>889.575</td>\n",
       "      <td>76.757</td>\n",
       "      <td>0.329703</td>\n",
       "      <td>99</td>\n",
       "    </tr>\n",
       "    <tr>\n",
       "      <th>2</th>\n",
       "      <td>2019-01-01 00:30:00</td>\n",
       "      <td>2.193</td>\n",
       "      <td>86.700</td>\n",
       "      <td>2.313</td>\n",
       "      <td>84.688</td>\n",
       "      <td>2.344</td>\n",
       "      <td>89.100</td>\n",
       "      <td>2.350</td>\n",
       "      <td>89.000</td>\n",
       "      <td>-13.766</td>\n",
       "      <td>889.942</td>\n",
       "      <td>76.981</td>\n",
       "      <td>0.296306</td>\n",
       "      <td>99</td>\n",
       "    </tr>\n",
       "    <tr>\n",
       "      <th>3</th>\n",
       "      <td>2019-01-01 00:45:00</td>\n",
       "      <td>2.654</td>\n",
       "      <td>78.160</td>\n",
       "      <td>2.494</td>\n",
       "      <td>74.939</td>\n",
       "      <td>2.574</td>\n",
       "      <td>87.267</td>\n",
       "      <td>2.808</td>\n",
       "      <td>82.733</td>\n",
       "      <td>-13.691</td>\n",
       "      <td>889.675</td>\n",
       "      <td>76.821</td>\n",
       "      <td>0.187590</td>\n",
       "      <td>99</td>\n",
       "    </tr>\n",
       "    <tr>\n",
       "      <th>4</th>\n",
       "      <td>2019-01-01 01:00:00</td>\n",
       "      <td>2.249</td>\n",
       "      <td>94.297</td>\n",
       "      <td>2.192</td>\n",
       "      <td>91.140</td>\n",
       "      <td>2.558</td>\n",
       "      <td>96.900</td>\n",
       "      <td>2.924</td>\n",
       "      <td>92.967</td>\n",
       "      <td>-13.447</td>\n",
       "      <td>890.025</td>\n",
       "      <td>74.571</td>\n",
       "      <td>0.081005</td>\n",
       "      <td>99</td>\n",
       "    </tr>\n",
       "  </tbody>\n",
       "</table>\n",
       "</div>"
      ],
      "text/plain": [
       "  Time(year-month-day h:m:s)  Wind speed at height of 10 meters (m/s)  \\\n",
       "0        2019-01-01 00:00:00                                    2.209   \n",
       "1        2019-01-01 00:15:00                                    1.828   \n",
       "2        2019-01-01 00:30:00                                    2.193   \n",
       "3        2019-01-01 00:45:00                                    2.654   \n",
       "4        2019-01-01 01:00:00                                    2.249   \n",
       "\n",
       "   Wind direction at height of 10 meters (˚)  \\\n",
       "0                                     81.317   \n",
       "1                                     77.460   \n",
       "2                                     86.700   \n",
       "3                                     78.160   \n",
       "4                                     94.297   \n",
       "\n",
       "   Wind speed at height of 30 meters (m/s)  \\\n",
       "0                                    1.991   \n",
       "1                                    1.698   \n",
       "2                                    2.313   \n",
       "3                                    2.494   \n",
       "4                                    2.192   \n",
       "\n",
       "   Wind direction at height of 30 meters (˚)  \\\n",
       "0                                     74.814   \n",
       "1                                     75.048   \n",
       "2                                     84.688   \n",
       "3                                     74.939   \n",
       "4                                     91.140   \n",
       "\n",
       "   Wind speed at height of 50 meters (m/s)  \\\n",
       "0                                    2.094   \n",
       "1                                    1.757   \n",
       "2                                    2.344   \n",
       "3                                    2.574   \n",
       "4                                    2.558   \n",
       "\n",
       "   Wind direction at height of 50 meters (˚)  \\\n",
       "0                                     77.667   \n",
       "1                                     88.733   \n",
       "2                                     89.100   \n",
       "3                                     87.267   \n",
       "4                                     96.900   \n",
       "\n",
       "   Wind speed - at the height of wheel hub (m/s)  \\\n",
       "0                                          2.494   \n",
       "1                                          1.882   \n",
       "2                                          2.350   \n",
       "3                                          2.808   \n",
       "4                                          2.924   \n",
       "\n",
       "   Wind speed at the height of wheel hub (˚)  Air temperature  (°C)   \\\n",
       "0                                     74.500                 -13.484   \n",
       "1                                     74.367                 -13.691   \n",
       "2                                     89.000                 -13.766   \n",
       "3                                     82.733                 -13.691   \n",
       "4                                     92.967                 -13.447   \n",
       "\n",
       "   Atmosphere (hpa)  Relative humidity (%)  Power (MW)  Nominal Capacity (MW)  \n",
       "0           889.867                 76.320    0.254383                     99  \n",
       "1           889.575                 76.757    0.329703                     99  \n",
       "2           889.942                 76.981    0.296306                     99  \n",
       "3           889.675                 76.821    0.187590                     99  \n",
       "4           890.025                 74.571    0.081005                     99  "
      ]
     },
     "execution_count": 3,
     "metadata": {},
     "output_type": "execute_result"
    }
   ],
   "source": [
    "df_wind = pd.read_csv('./combined_wind_data.csv')\n",
    "df_wind.head()"
   ]
  },
  {
   "cell_type": "markdown",
   "metadata": {},
   "source": [
    "### Data Overview"
   ]
  },
  {
   "cell_type": "code",
   "execution_count": 4,
   "metadata": {},
   "outputs": [
    {
     "data": {
      "text/plain": [
       "(350112, 9)"
      ]
     },
     "execution_count": 4,
     "metadata": {},
     "output_type": "execute_result"
    }
   ],
   "source": [
    "df_solar.shape"
   ]
  },
  {
   "cell_type": "code",
   "execution_count": 5,
   "metadata": {},
   "outputs": [
    {
     "data": {
      "text/plain": [
       "(280704, 14)"
      ]
     },
     "execution_count": 5,
     "metadata": {},
     "output_type": "execute_result"
    }
   ],
   "source": [
    "df_wind.shape"
   ]
  },
  {
   "cell_type": "code",
   "execution_count": 6,
   "metadata": {},
   "outputs": [
    {
     "data": {
      "text/html": [
       "<div>\n",
       "<style scoped>\n",
       "    .dataframe tbody tr th:only-of-type {\n",
       "        vertical-align: middle;\n",
       "    }\n",
       "\n",
       "    .dataframe tbody tr th {\n",
       "        vertical-align: top;\n",
       "    }\n",
       "\n",
       "    .dataframe thead th {\n",
       "        text-align: right;\n",
       "    }\n",
       "</style>\n",
       "<table border=\"1\" class=\"dataframe\">\n",
       "  <thead>\n",
       "    <tr style=\"text-align: right;\">\n",
       "      <th></th>\n",
       "      <th>Total solar irradiance (W/m2)</th>\n",
       "      <th>Direct normal irradiance (W/m2)</th>\n",
       "      <th>Global horizontal irradiance (W/m2)</th>\n",
       "      <th>Air temperature  (°C)</th>\n",
       "      <th>Atmosphere (hpa)</th>\n",
       "      <th>Relative humidity (%)</th>\n",
       "      <th>Power (MW)</th>\n",
       "      <th>Nominal Capacity (MW)</th>\n",
       "    </tr>\n",
       "  </thead>\n",
       "  <tbody>\n",
       "    <tr>\n",
       "      <th>count</th>\n",
       "      <td>350112.000000</td>\n",
       "      <td>350112.000000</td>\n",
       "      <td>350112.000000</td>\n",
       "      <td>350112.000000</td>\n",
       "      <td>350112.000000</td>\n",
       "      <td>350112.000000</td>\n",
       "      <td>350106.000000</td>\n",
       "      <td>350112.000000</td>\n",
       "    </tr>\n",
       "    <tr>\n",
       "      <th>mean</th>\n",
       "      <td>185.480520</td>\n",
       "      <td>165.607879</td>\n",
       "      <td>64.083094</td>\n",
       "      <td>17.774586</td>\n",
       "      <td>930.621437</td>\n",
       "      <td>63.714317</td>\n",
       "      <td>9.444796</td>\n",
       "      <td>67.081163</td>\n",
       "    </tr>\n",
       "    <tr>\n",
       "      <th>std</th>\n",
       "      <td>290.461758</td>\n",
       "      <td>267.563999</td>\n",
       "      <td>136.475614</td>\n",
       "      <td>8.546773</td>\n",
       "      <td>82.820192</td>\n",
       "      <td>21.569757</td>\n",
       "      <td>18.125600</td>\n",
       "      <td>43.785829</td>\n",
       "    </tr>\n",
       "    <tr>\n",
       "      <th>min</th>\n",
       "      <td>0.000000</td>\n",
       "      <td>0.000000</td>\n",
       "      <td>0.000000</td>\n",
       "      <td>-8.040000</td>\n",
       "      <td>389.820000</td>\n",
       "      <td>1.413333</td>\n",
       "      <td>0.000000</td>\n",
       "      <td>30.000000</td>\n",
       "    </tr>\n",
       "    <tr>\n",
       "      <th>25%</th>\n",
       "      <td>0.000000</td>\n",
       "      <td>0.000000</td>\n",
       "      <td>0.000000</td>\n",
       "      <td>11.400000</td>\n",
       "      <td>838.480000</td>\n",
       "      <td>48.126917</td>\n",
       "      <td>0.000000</td>\n",
       "      <td>30.000000</td>\n",
       "    </tr>\n",
       "    <tr>\n",
       "      <th>50%</th>\n",
       "      <td>1.000000</td>\n",
       "      <td>0.000000</td>\n",
       "      <td>0.000000</td>\n",
       "      <td>17.983736</td>\n",
       "      <td>953.051860</td>\n",
       "      <td>66.796364</td>\n",
       "      <td>0.000000</td>\n",
       "      <td>35.000000</td>\n",
       "    </tr>\n",
       "    <tr>\n",
       "      <th>75%</th>\n",
       "      <td>287.000000</td>\n",
       "      <td>248.631732</td>\n",
       "      <td>72.608599</td>\n",
       "      <td>23.855394</td>\n",
       "      <td>1006.300000</td>\n",
       "      <td>80.900000</td>\n",
       "      <td>11.667001</td>\n",
       "      <td>110.000000</td>\n",
       "    </tr>\n",
       "    <tr>\n",
       "      <th>max</th>\n",
       "      <td>1467.000000</td>\n",
       "      <td>1962.000000</td>\n",
       "      <td>1208.000000</td>\n",
       "      <td>49.799619</td>\n",
       "      <td>1100.310562</td>\n",
       "      <td>100.940000</td>\n",
       "      <td>114.688000</td>\n",
       "      <td>130.000000</td>\n",
       "    </tr>\n",
       "  </tbody>\n",
       "</table>\n",
       "</div>"
      ],
      "text/plain": [
       "       Total solar irradiance (W/m2)  Direct normal irradiance (W/m2)  \\\n",
       "count                  350112.000000                    350112.000000   \n",
       "mean                      185.480520                       165.607879   \n",
       "std                       290.461758                       267.563999   \n",
       "min                         0.000000                         0.000000   \n",
       "25%                         0.000000                         0.000000   \n",
       "50%                         1.000000                         0.000000   \n",
       "75%                       287.000000                       248.631732   \n",
       "max                      1467.000000                      1962.000000   \n",
       "\n",
       "       Global horizontal irradiance (W/m2)  Air temperature  (°C)   \\\n",
       "count                        350112.000000           350112.000000   \n",
       "mean                             64.083094               17.774586   \n",
       "std                             136.475614                8.546773   \n",
       "min                               0.000000               -8.040000   \n",
       "25%                               0.000000               11.400000   \n",
       "50%                               0.000000               17.983736   \n",
       "75%                              72.608599               23.855394   \n",
       "max                            1208.000000               49.799619   \n",
       "\n",
       "       Atmosphere (hpa)  Relative humidity (%)     Power (MW)  \\\n",
       "count     350112.000000          350112.000000  350106.000000   \n",
       "mean         930.621437              63.714317       9.444796   \n",
       "std           82.820192              21.569757      18.125600   \n",
       "min          389.820000               1.413333       0.000000   \n",
       "25%          838.480000              48.126917       0.000000   \n",
       "50%          953.051860              66.796364       0.000000   \n",
       "75%         1006.300000              80.900000      11.667001   \n",
       "max         1100.310562             100.940000     114.688000   \n",
       "\n",
       "       Nominal Capacity (MW)  \n",
       "count          350112.000000  \n",
       "mean               67.081163  \n",
       "std                43.785829  \n",
       "min                30.000000  \n",
       "25%                30.000000  \n",
       "50%                35.000000  \n",
       "75%               110.000000  \n",
       "max               130.000000  "
      ]
     },
     "execution_count": 6,
     "metadata": {},
     "output_type": "execute_result"
    }
   ],
   "source": [
    "df_solar.describe()"
   ]
  },
  {
   "cell_type": "code",
   "execution_count": 7,
   "metadata": {},
   "outputs": [
    {
     "data": {
      "text/html": [
       "<div>\n",
       "<style scoped>\n",
       "    .dataframe tbody tr th:only-of-type {\n",
       "        vertical-align: middle;\n",
       "    }\n",
       "\n",
       "    .dataframe tbody tr th {\n",
       "        vertical-align: top;\n",
       "    }\n",
       "\n",
       "    .dataframe thead th {\n",
       "        text-align: right;\n",
       "    }\n",
       "</style>\n",
       "<table border=\"1\" class=\"dataframe\">\n",
       "  <thead>\n",
       "    <tr style=\"text-align: right;\">\n",
       "      <th></th>\n",
       "      <th>Wind speed at height of 10 meters (m/s)</th>\n",
       "      <th>Wind direction at height of 10 meters (˚)</th>\n",
       "      <th>Wind speed at height of 30 meters (m/s)</th>\n",
       "      <th>Wind direction at height of 30 meters (˚)</th>\n",
       "      <th>Wind speed at height of 50 meters (m/s)</th>\n",
       "      <th>Wind direction at height of 50 meters (˚)</th>\n",
       "      <th>Wind speed - at the height of wheel hub (m/s)</th>\n",
       "      <th>Wind speed at the height of wheel hub (˚)</th>\n",
       "      <th>Air temperature  (°C)</th>\n",
       "      <th>Atmosphere (hpa)</th>\n",
       "      <th>Relative humidity (%)</th>\n",
       "      <th>Power (MW)</th>\n",
       "      <th>Nominal Capacity (MW)</th>\n",
       "    </tr>\n",
       "  </thead>\n",
       "  <tbody>\n",
       "    <tr>\n",
       "      <th>count</th>\n",
       "      <td>280704.000000</td>\n",
       "      <td>280704.000000</td>\n",
       "      <td>280704.000000</td>\n",
       "      <td>280704.000000</td>\n",
       "      <td>280704.000000</td>\n",
       "      <td>280704.000000</td>\n",
       "      <td>280704.000000</td>\n",
       "      <td>280704.000000</td>\n",
       "      <td>280704.000000</td>\n",
       "      <td>280704.000000</td>\n",
       "      <td>280704.000000</td>\n",
       "      <td>280704.000000</td>\n",
       "      <td>280704.000000</td>\n",
       "    </tr>\n",
       "    <tr>\n",
       "      <th>mean</th>\n",
       "      <td>4.526958</td>\n",
       "      <td>166.193125</td>\n",
       "      <td>5.558620</td>\n",
       "      <td>160.633158</td>\n",
       "      <td>5.973083</td>\n",
       "      <td>150.583685</td>\n",
       "      <td>6.019033</td>\n",
       "      <td>159.592585</td>\n",
       "      <td>15.244579</td>\n",
       "      <td>959.074363</td>\n",
       "      <td>63.951200</td>\n",
       "      <td>21.959138</td>\n",
       "      <td>90.000000</td>\n",
       "    </tr>\n",
       "    <tr>\n",
       "      <th>std</th>\n",
       "      <td>3.056181</td>\n",
       "      <td>101.902285</td>\n",
       "      <td>3.299863</td>\n",
       "      <td>104.881835</td>\n",
       "      <td>3.757412</td>\n",
       "      <td>107.600948</td>\n",
       "      <td>4.011705</td>\n",
       "      <td>112.311179</td>\n",
       "      <td>10.845496</td>\n",
       "      <td>82.363410</td>\n",
       "      <td>25.497097</td>\n",
       "      <td>24.279098</td>\n",
       "      <td>13.910453</td>\n",
       "    </tr>\n",
       "    <tr>\n",
       "      <th>min</th>\n",
       "      <td>0.000000</td>\n",
       "      <td>0.000000</td>\n",
       "      <td>0.000000</td>\n",
       "      <td>0.000000</td>\n",
       "      <td>0.000000</td>\n",
       "      <td>0.000000</td>\n",
       "      <td>0.000000</td>\n",
       "      <td>0.000000</td>\n",
       "      <td>-24.131000</td>\n",
       "      <td>0.000000</td>\n",
       "      <td>0.000000</td>\n",
       "      <td>0.000000</td>\n",
       "      <td>66.000000</td>\n",
       "    </tr>\n",
       "    <tr>\n",
       "      <th>25%</th>\n",
       "      <td>2.292000</td>\n",
       "      <td>63.871500</td>\n",
       "      <td>3.060000</td>\n",
       "      <td>51.430000</td>\n",
       "      <td>3.110000</td>\n",
       "      <td>36.340000</td>\n",
       "      <td>2.960000</td>\n",
       "      <td>41.070000</td>\n",
       "      <td>8.407000</td>\n",
       "      <td>889.600000</td>\n",
       "      <td>43.424000</td>\n",
       "      <td>1.165247</td>\n",
       "      <td>88.500000</td>\n",
       "    </tr>\n",
       "    <tr>\n",
       "      <th>50%</th>\n",
       "      <td>4.200000</td>\n",
       "      <td>165.442000</td>\n",
       "      <td>5.140000</td>\n",
       "      <td>168.100000</td>\n",
       "      <td>5.520000</td>\n",
       "      <td>153.881000</td>\n",
       "      <td>5.499333</td>\n",
       "      <td>161.962667</td>\n",
       "      <td>16.886667</td>\n",
       "      <td>917.700000</td>\n",
       "      <td>68.340000</td>\n",
       "      <td>12.133000</td>\n",
       "      <td>97.500000</td>\n",
       "    </tr>\n",
       "    <tr>\n",
       "      <th>75%</th>\n",
       "      <td>6.422000</td>\n",
       "      <td>243.590750</td>\n",
       "      <td>7.598000</td>\n",
       "      <td>244.360000</td>\n",
       "      <td>8.285670</td>\n",
       "      <td>241.100000</td>\n",
       "      <td>8.556000</td>\n",
       "      <td>256.621000</td>\n",
       "      <td>23.950000</td>\n",
       "      <td>990.292250</td>\n",
       "      <td>85.270525</td>\n",
       "      <td>37.370830</td>\n",
       "      <td>99.000000</td>\n",
       "    </tr>\n",
       "    <tr>\n",
       "      <th>max</th>\n",
       "      <td>27.926000</td>\n",
       "      <td>360.000000</td>\n",
       "      <td>29.187000</td>\n",
       "      <td>360.000000</td>\n",
       "      <td>30.819333</td>\n",
       "      <td>360.000000</td>\n",
       "      <td>36.920300</td>\n",
       "      <td>360.000000</td>\n",
       "      <td>37.130000</td>\n",
       "      <td>1090.240000</td>\n",
       "      <td>100.000000</td>\n",
       "      <td>114.360000</td>\n",
       "      <td>99.000000</td>\n",
       "    </tr>\n",
       "  </tbody>\n",
       "</table>\n",
       "</div>"
      ],
      "text/plain": [
       "       Wind speed at height of 10 meters (m/s)  \\\n",
       "count                            280704.000000   \n",
       "mean                                  4.526958   \n",
       "std                                   3.056181   \n",
       "min                                   0.000000   \n",
       "25%                                   2.292000   \n",
       "50%                                   4.200000   \n",
       "75%                                   6.422000   \n",
       "max                                  27.926000   \n",
       "\n",
       "       Wind direction at height of 10 meters (˚)  \\\n",
       "count                              280704.000000   \n",
       "mean                                  166.193125   \n",
       "std                                   101.902285   \n",
       "min                                     0.000000   \n",
       "25%                                    63.871500   \n",
       "50%                                   165.442000   \n",
       "75%                                   243.590750   \n",
       "max                                   360.000000   \n",
       "\n",
       "       Wind speed at height of 30 meters (m/s)  \\\n",
       "count                            280704.000000   \n",
       "mean                                  5.558620   \n",
       "std                                   3.299863   \n",
       "min                                   0.000000   \n",
       "25%                                   3.060000   \n",
       "50%                                   5.140000   \n",
       "75%                                   7.598000   \n",
       "max                                  29.187000   \n",
       "\n",
       "       Wind direction at height of 30 meters (˚)  \\\n",
       "count                              280704.000000   \n",
       "mean                                  160.633158   \n",
       "std                                   104.881835   \n",
       "min                                     0.000000   \n",
       "25%                                    51.430000   \n",
       "50%                                   168.100000   \n",
       "75%                                   244.360000   \n",
       "max                                   360.000000   \n",
       "\n",
       "       Wind speed at height of 50 meters (m/s)  \\\n",
       "count                            280704.000000   \n",
       "mean                                  5.973083   \n",
       "std                                   3.757412   \n",
       "min                                   0.000000   \n",
       "25%                                   3.110000   \n",
       "50%                                   5.520000   \n",
       "75%                                   8.285670   \n",
       "max                                  30.819333   \n",
       "\n",
       "       Wind direction at height of 50 meters (˚)  \\\n",
       "count                              280704.000000   \n",
       "mean                                  150.583685   \n",
       "std                                   107.600948   \n",
       "min                                     0.000000   \n",
       "25%                                    36.340000   \n",
       "50%                                   153.881000   \n",
       "75%                                   241.100000   \n",
       "max                                   360.000000   \n",
       "\n",
       "       Wind speed - at the height of wheel hub (m/s)  \\\n",
       "count                                  280704.000000   \n",
       "mean                                        6.019033   \n",
       "std                                         4.011705   \n",
       "min                                         0.000000   \n",
       "25%                                         2.960000   \n",
       "50%                                         5.499333   \n",
       "75%                                         8.556000   \n",
       "max                                        36.920300   \n",
       "\n",
       "       Wind speed at the height of wheel hub (˚)  Air temperature  (°C)   \\\n",
       "count                              280704.000000           280704.000000   \n",
       "mean                                  159.592585               15.244579   \n",
       "std                                   112.311179               10.845496   \n",
       "min                                     0.000000              -24.131000   \n",
       "25%                                    41.070000                8.407000   \n",
       "50%                                   161.962667               16.886667   \n",
       "75%                                   256.621000               23.950000   \n",
       "max                                   360.000000               37.130000   \n",
       "\n",
       "       Atmosphere (hpa)  Relative humidity (%)     Power (MW)  \\\n",
       "count     280704.000000          280704.000000  280704.000000   \n",
       "mean         959.074363              63.951200      21.959138   \n",
       "std           82.363410              25.497097      24.279098   \n",
       "min            0.000000               0.000000       0.000000   \n",
       "25%          889.600000              43.424000       1.165247   \n",
       "50%          917.700000              68.340000      12.133000   \n",
       "75%          990.292250              85.270525      37.370830   \n",
       "max         1090.240000             100.000000     114.360000   \n",
       "\n",
       "       Nominal Capacity (MW)  \n",
       "count          280704.000000  \n",
       "mean               90.000000  \n",
       "std                13.910453  \n",
       "min                66.000000  \n",
       "25%                88.500000  \n",
       "50%                97.500000  \n",
       "75%                99.000000  \n",
       "max                99.000000  "
      ]
     },
     "execution_count": 7,
     "metadata": {},
     "output_type": "execute_result"
    }
   ],
   "source": [
    "df_wind.describe()"
   ]
  },
  {
   "cell_type": "code",
   "execution_count": 8,
   "metadata": {},
   "outputs": [
    {
     "name": "stdout",
     "output_type": "stream",
     "text": [
      "<class 'pandas.core.frame.DataFrame'>\n",
      "RangeIndex: 350112 entries, 0 to 350111\n",
      "Data columns (total 9 columns):\n",
      " #   Column                               Non-Null Count   Dtype  \n",
      "---  ------                               --------------   -----  \n",
      " 0   Time(year-month-day h:m:s)           350112 non-null  object \n",
      " 1   Total solar irradiance (W/m2)        350112 non-null  float64\n",
      " 2   Direct normal irradiance (W/m2)      350112 non-null  float64\n",
      " 3   Global horizontal irradiance (W/m2)  350112 non-null  float64\n",
      " 4   Air temperature  (°C)                350112 non-null  float64\n",
      " 5   Atmosphere (hpa)                     350112 non-null  float64\n",
      " 6   Relative humidity (%)                350112 non-null  float64\n",
      " 7   Power (MW)                           350106 non-null  float64\n",
      " 8   Nominal Capacity (MW)                350112 non-null  int64  \n",
      "dtypes: float64(7), int64(1), object(1)\n",
      "memory usage: 24.0+ MB\n"
     ]
    }
   ],
   "source": [
    "df_solar.info()"
   ]
  },
  {
   "cell_type": "code",
   "execution_count": 9,
   "metadata": {},
   "outputs": [
    {
     "name": "stdout",
     "output_type": "stream",
     "text": [
      "<class 'pandas.core.frame.DataFrame'>\n",
      "RangeIndex: 280704 entries, 0 to 280703\n",
      "Data columns (total 14 columns):\n",
      " #   Column                                         Non-Null Count   Dtype  \n",
      "---  ------                                         --------------   -----  \n",
      " 0   Time(year-month-day h:m:s)                     280704 non-null  object \n",
      " 1   Wind speed at height of 10 meters (m/s)        280704 non-null  float64\n",
      " 2   Wind direction at height of 10 meters (˚)      280704 non-null  float64\n",
      " 3   Wind speed at height of 30 meters (m/s)        280704 non-null  float64\n",
      " 4   Wind direction at height of 30 meters (˚)      280704 non-null  float64\n",
      " 5   Wind speed at height of 50 meters (m/s)        280704 non-null  float64\n",
      " 6   Wind direction at height of 50 meters (˚)      280704 non-null  float64\n",
      " 7   Wind speed - at the height of wheel hub (m/s)  280704 non-null  float64\n",
      " 8   Wind speed at the height of wheel hub (˚)      280704 non-null  float64\n",
      " 9   Air temperature  (°C)                          280704 non-null  float64\n",
      " 10  Atmosphere (hpa)                               280704 non-null  float64\n",
      " 11  Relative humidity (%)                          280704 non-null  float64\n",
      " 12  Power (MW)                                     280704 non-null  float64\n",
      " 13  Nominal Capacity (MW)                          280704 non-null  int64  \n",
      "dtypes: float64(12), int64(1), object(1)\n",
      "memory usage: 30.0+ MB\n"
     ]
    }
   ],
   "source": [
    "df_wind.info()"
   ]
  },
  {
   "cell_type": "markdown",
   "metadata": {},
   "source": [
    "### Handling Missing, Duplicates, and Invalid Data"
   ]
  },
  {
   "cell_type": "code",
   "execution_count": 10,
   "metadata": {},
   "outputs": [
    {
     "data": {
      "text/plain": [
       "Time(year-month-day h:m:s)             0\n",
       "Total solar irradiance (W/m2)          0\n",
       "Direct normal irradiance (W/m2)        0\n",
       "Global horizontal irradiance (W/m2)    0\n",
       "Air temperature  (°C)                  0\n",
       "Atmosphere (hpa)                       0\n",
       "Relative humidity (%)                  0\n",
       "Power (MW)                             6\n",
       "Nominal Capacity (MW)                  0\n",
       "dtype: int64"
      ]
     },
     "execution_count": 10,
     "metadata": {},
     "output_type": "execute_result"
    }
   ],
   "source": [
    "df_solar.isnull().sum()"
   ]
  },
  {
   "cell_type": "code",
   "execution_count": 11,
   "metadata": {},
   "outputs": [],
   "source": [
    "df_solar.dropna(inplace=True)"
   ]
  },
  {
   "cell_type": "code",
   "execution_count": 12,
   "metadata": {},
   "outputs": [
    {
     "data": {
      "text/plain": [
       "Time(year-month-day h:m:s)                       0\n",
       "Wind speed at height of 10 meters (m/s)          0\n",
       "Wind direction at height of 10 meters (˚)        0\n",
       "Wind speed at height of 30 meters (m/s)          0\n",
       "Wind direction at height of 30 meters (˚)        0\n",
       "Wind speed at height of 50 meters (m/s)          0\n",
       "Wind direction at height of 50 meters (˚)        0\n",
       "Wind speed - at the height of wheel hub (m/s)    0\n",
       "Wind speed at the height of wheel hub (˚)        0\n",
       "Air temperature  (°C)                            0\n",
       "Atmosphere (hpa)                                 0\n",
       "Relative humidity (%)                            0\n",
       "Power (MW)                                       0\n",
       "Nominal Capacity (MW)                            0\n",
       "dtype: int64"
      ]
     },
     "execution_count": 12,
     "metadata": {},
     "output_type": "execute_result"
    }
   ],
   "source": [
    "df_wind.isnull().sum()"
   ]
  },
  {
   "cell_type": "code",
   "execution_count": 13,
   "metadata": {},
   "outputs": [
    {
     "data": {
      "text/plain": [
       "0"
      ]
     },
     "execution_count": 13,
     "metadata": {},
     "output_type": "execute_result"
    }
   ],
   "source": [
    "df_solar.duplicated().sum()"
   ]
  },
  {
   "cell_type": "code",
   "execution_count": 14,
   "metadata": {},
   "outputs": [
    {
     "data": {
      "text/plain": [
       "0"
      ]
     },
     "execution_count": 14,
     "metadata": {},
     "output_type": "execute_result"
    }
   ],
   "source": [
    "df_wind.duplicated().sum()"
   ]
  },
  {
   "cell_type": "code",
   "execution_count": 15,
   "metadata": {},
   "outputs": [
    {
     "data": {
      "text/plain": [
       "0"
      ]
     },
     "execution_count": 15,
     "metadata": {},
     "output_type": "execute_result"
    }
   ],
   "source": [
    "(df_solar['Power (MW)']<0).sum()"
   ]
  },
  {
   "cell_type": "code",
   "execution_count": 16,
   "metadata": {},
   "outputs": [
    {
     "data": {
      "text/plain": [
       "0"
      ]
     },
     "execution_count": 16,
     "metadata": {},
     "output_type": "execute_result"
    }
   ],
   "source": [
    "(df_wind['Power (MW)']<0).sum()"
   ]
  },
  {
   "cell_type": "markdown",
   "metadata": {},
   "source": [
    "### Correcting Timestamps"
   ]
  },
  {
   "cell_type": "code",
   "execution_count": 17,
   "metadata": {},
   "outputs": [
    {
     "data": {
      "text/plain": [
       "0"
      ]
     },
     "execution_count": 17,
     "metadata": {},
     "output_type": "execute_result"
    }
   ],
   "source": [
    "# Identify rows with '24:00:00'\n",
    "rows_with_24_time_solar = df_solar['Time(year-month-day h:m:s)'].str.contains(\n",
    "    '24:00:00', na=False)\n",
    "rows_with_24_time_solar.sum()"
   ]
  },
  {
   "cell_type": "code",
   "execution_count": 18,
   "metadata": {},
   "outputs": [
    {
     "data": {
      "text/plain": [
       "23"
      ]
     },
     "execution_count": 18,
     "metadata": {},
     "output_type": "execute_result"
    }
   ],
   "source": [
    "# Identify rows with '24:00:00'\n",
    "rows_with_24_time_wind = df_wind['Time(year-month-day h:m:s)'].str.contains(\n",
    "    '24:00:00', na=False)\n",
    "rows_with_24_time_wind.sum()"
   ]
  },
  {
   "cell_type": "code",
   "execution_count": 19,
   "metadata": {},
   "outputs": [],
   "source": [
    "# Replace '24:00:00' with '00:00:00' in the string format\n",
    "df_wind.loc[rows_with_24_time_wind, 'Time(year-month-day h:m:s)'] = (\n",
    "    df_wind.loc[rows_with_24_time_wind, 'Time(year-month-day h:m:s)']\n",
    "    .str.replace('24:00:00', '00:00:00', regex=False)\n",
    ")\n",
    "\n",
    "# Convert the adjusted column to datetime and add one day where necessary\n",
    "df_wind.loc[rows_with_24_time_wind, 'Time(year-month-day h:m:s)'] = pd.to_datetime(\n",
    "    df_wind.loc[rows_with_24_time_wind, 'Time(year-month-day h:m:s)']\n",
    ") + pd.Timedelta(days=1)"
   ]
  },
  {
   "cell_type": "code",
   "execution_count": 20,
   "metadata": {},
   "outputs": [],
   "source": [
    "# Convert string datetime to datetime object\n",
    "df_solar['Time(year-month-day h:m:s)'] = pd.to_datetime(df_solar['Time(year-month-day h:m:s)'])\n",
    "\n",
    "df_wind['Time(year-month-day h:m:s)'] = pd.to_datetime(\n",
    "    df_wind['Time(year-month-day h:m:s)'], errors='coerce')"
   ]
  },
  {
   "cell_type": "markdown",
   "metadata": {},
   "source": [
    "### Feature Engineering"
   ]
  },
  {
   "cell_type": "code",
   "execution_count": 22,
   "metadata": {},
   "outputs": [],
   "source": [
    "df_solar['Month']=df_solar['Time(year-month-day h:m:s)'].dt.month\n",
    "\n",
    "df_wind['Month'] = df_wind['Time(year-month-day h:m:s)'].dt.month"
   ]
  },
  {
   "cell_type": "code",
   "execution_count": 23,
   "metadata": {},
   "outputs": [],
   "source": [
    "seasons_dict = {1: 'Winter', 2: 'Winter', 3: 'Winter', 4: 'Spring', 5: 'Spring', 6: 'Summer', 7: 'Summer', 8: 'Summer', 9: 'Autumn', 10: 'Autumn', 11: 'Autumn', 12: 'Winter'}"
   ]
  },
  {
   "cell_type": "code",
   "execution_count": 24,
   "metadata": {},
   "outputs": [],
   "source": [
    "df_solar['Seasons'] = df_solar['Month'].map(seasons_dict)\n",
    "\n",
    "df_wind['Seasons'] = df_wind['Month'].map(seasons_dict)"
   ]
  },
  {
   "cell_type": "code",
   "execution_count": 25,
   "metadata": {},
   "outputs": [],
   "source": [
    "df_solar['Day']=df_solar['Time(year-month-day h:m:s)'].dt.day\n",
    "\n",
    "df_wind['Day'] = df_wind['Time(year-month-day h:m:s)'].dt.day"
   ]
  },
  {
   "cell_type": "code",
   "execution_count": 26,
   "metadata": {},
   "outputs": [],
   "source": [
    "df_solar['Hour']=df_solar['Time(year-month-day h:m:s)'].dt.hour\n",
    "\n",
    "df_wind['Hour'] = df_wind['Time(year-month-day h:m:s)'].dt.hour"
   ]
  },
  {
   "cell_type": "code",
   "execution_count": 27,
   "metadata": {},
   "outputs": [],
   "source": [
    "df_solar.drop(columns=['Time(year-month-day h:m:s)'],inplace=True)\n",
    "\n",
    "df_wind.drop(columns=['Time(year-month-day h:m:s)'],inplace=True)"
   ]
  },
  {
   "cell_type": "code",
   "execution_count": 28,
   "metadata": {},
   "outputs": [
    {
     "data": {
      "text/html": [
       "<div>\n",
       "<style scoped>\n",
       "    .dataframe tbody tr th:only-of-type {\n",
       "        vertical-align: middle;\n",
       "    }\n",
       "\n",
       "    .dataframe tbody tr th {\n",
       "        vertical-align: top;\n",
       "    }\n",
       "\n",
       "    .dataframe thead th {\n",
       "        text-align: right;\n",
       "    }\n",
       "</style>\n",
       "<table border=\"1\" class=\"dataframe\">\n",
       "  <thead>\n",
       "    <tr style=\"text-align: right;\">\n",
       "      <th></th>\n",
       "      <th>Total solar irradiance (W/m2)</th>\n",
       "      <th>Direct normal irradiance (W/m2)</th>\n",
       "      <th>Global horizontal irradiance (W/m2)</th>\n",
       "      <th>Air temperature  (°C)</th>\n",
       "      <th>Atmosphere (hpa)</th>\n",
       "      <th>Relative humidity (%)</th>\n",
       "      <th>Power (MW)</th>\n",
       "      <th>Nominal Capacity (MW)</th>\n",
       "      <th>Month</th>\n",
       "      <th>Seasons</th>\n",
       "      <th>Day</th>\n",
       "      <th>Hour</th>\n",
       "    </tr>\n",
       "  </thead>\n",
       "  <tbody>\n",
       "    <tr>\n",
       "      <th>0</th>\n",
       "      <td>0.0</td>\n",
       "      <td>0.0</td>\n",
       "      <td>0.0</td>\n",
       "      <td>4.600000</td>\n",
       "      <td>862.500000</td>\n",
       "      <td>40.970000</td>\n",
       "      <td>0.0</td>\n",
       "      <td>30</td>\n",
       "      <td>1</td>\n",
       "      <td>Winter</td>\n",
       "      <td>1</td>\n",
       "      <td>0</td>\n",
       "    </tr>\n",
       "    <tr>\n",
       "      <th>1</th>\n",
       "      <td>0.0</td>\n",
       "      <td>0.0</td>\n",
       "      <td>0.0</td>\n",
       "      <td>4.600000</td>\n",
       "      <td>862.516000</td>\n",
       "      <td>40.766667</td>\n",
       "      <td>0.0</td>\n",
       "      <td>30</td>\n",
       "      <td>1</td>\n",
       "      <td>Winter</td>\n",
       "      <td>1</td>\n",
       "      <td>0</td>\n",
       "    </tr>\n",
       "    <tr>\n",
       "      <th>2</th>\n",
       "      <td>0.0</td>\n",
       "      <td>0.0</td>\n",
       "      <td>0.0</td>\n",
       "      <td>4.600000</td>\n",
       "      <td>862.476000</td>\n",
       "      <td>40.946667</td>\n",
       "      <td>0.0</td>\n",
       "      <td>30</td>\n",
       "      <td>1</td>\n",
       "      <td>Winter</td>\n",
       "      <td>1</td>\n",
       "      <td>0</td>\n",
       "    </tr>\n",
       "    <tr>\n",
       "      <th>3</th>\n",
       "      <td>0.0</td>\n",
       "      <td>0.0</td>\n",
       "      <td>0.0</td>\n",
       "      <td>4.600000</td>\n",
       "      <td>862.422000</td>\n",
       "      <td>43.413333</td>\n",
       "      <td>0.0</td>\n",
       "      <td>30</td>\n",
       "      <td>1</td>\n",
       "      <td>Winter</td>\n",
       "      <td>1</td>\n",
       "      <td>0</td>\n",
       "    </tr>\n",
       "    <tr>\n",
       "      <th>4</th>\n",
       "      <td>0.0</td>\n",
       "      <td>0.0</td>\n",
       "      <td>0.0</td>\n",
       "      <td>1.946667</td>\n",
       "      <td>862.388667</td>\n",
       "      <td>51.386667</td>\n",
       "      <td>0.0</td>\n",
       "      <td>30</td>\n",
       "      <td>1</td>\n",
       "      <td>Winter</td>\n",
       "      <td>1</td>\n",
       "      <td>1</td>\n",
       "    </tr>\n",
       "  </tbody>\n",
       "</table>\n",
       "</div>"
      ],
      "text/plain": [
       "   Total solar irradiance (W/m2)  Direct normal irradiance (W/m2)  \\\n",
       "0                            0.0                              0.0   \n",
       "1                            0.0                              0.0   \n",
       "2                            0.0                              0.0   \n",
       "3                            0.0                              0.0   \n",
       "4                            0.0                              0.0   \n",
       "\n",
       "   Global horizontal irradiance (W/m2)  Air temperature  (°C)   \\\n",
       "0                                  0.0                4.600000   \n",
       "1                                  0.0                4.600000   \n",
       "2                                  0.0                4.600000   \n",
       "3                                  0.0                4.600000   \n",
       "4                                  0.0                1.946667   \n",
       "\n",
       "   Atmosphere (hpa)  Relative humidity (%)  Power (MW)  Nominal Capacity (MW)  \\\n",
       "0        862.500000              40.970000         0.0                     30   \n",
       "1        862.516000              40.766667         0.0                     30   \n",
       "2        862.476000              40.946667         0.0                     30   \n",
       "3        862.422000              43.413333         0.0                     30   \n",
       "4        862.388667              51.386667         0.0                     30   \n",
       "\n",
       "   Month Seasons  Day  Hour  \n",
       "0      1  Winter    1     0  \n",
       "1      1  Winter    1     0  \n",
       "2      1  Winter    1     0  \n",
       "3      1  Winter    1     0  \n",
       "4      1  Winter    1     1  "
      ]
     },
     "execution_count": 28,
     "metadata": {},
     "output_type": "execute_result"
    }
   ],
   "source": [
    "df_solar.head()"
   ]
  },
  {
   "cell_type": "code",
   "execution_count": 29,
   "metadata": {},
   "outputs": [
    {
     "data": {
      "text/html": [
       "<div>\n",
       "<style scoped>\n",
       "    .dataframe tbody tr th:only-of-type {\n",
       "        vertical-align: middle;\n",
       "    }\n",
       "\n",
       "    .dataframe tbody tr th {\n",
       "        vertical-align: top;\n",
       "    }\n",
       "\n",
       "    .dataframe thead th {\n",
       "        text-align: right;\n",
       "    }\n",
       "</style>\n",
       "<table border=\"1\" class=\"dataframe\">\n",
       "  <thead>\n",
       "    <tr style=\"text-align: right;\">\n",
       "      <th></th>\n",
       "      <th>Wind speed at height of 10 meters (m/s)</th>\n",
       "      <th>Wind direction at height of 10 meters (˚)</th>\n",
       "      <th>Wind speed at height of 30 meters (m/s)</th>\n",
       "      <th>Wind direction at height of 30 meters (˚)</th>\n",
       "      <th>Wind speed at height of 50 meters (m/s)</th>\n",
       "      <th>Wind direction at height of 50 meters (˚)</th>\n",
       "      <th>Wind speed - at the height of wheel hub (m/s)</th>\n",
       "      <th>Wind speed at the height of wheel hub (˚)</th>\n",
       "      <th>Air temperature  (°C)</th>\n",
       "      <th>Atmosphere (hpa)</th>\n",
       "      <th>Relative humidity (%)</th>\n",
       "      <th>Power (MW)</th>\n",
       "      <th>Nominal Capacity (MW)</th>\n",
       "      <th>Month</th>\n",
       "      <th>Seasons</th>\n",
       "      <th>Day</th>\n",
       "      <th>Hour</th>\n",
       "    </tr>\n",
       "  </thead>\n",
       "  <tbody>\n",
       "    <tr>\n",
       "      <th>0</th>\n",
       "      <td>2.209</td>\n",
       "      <td>81.317</td>\n",
       "      <td>1.991</td>\n",
       "      <td>74.814</td>\n",
       "      <td>2.094</td>\n",
       "      <td>77.667</td>\n",
       "      <td>2.494</td>\n",
       "      <td>74.500</td>\n",
       "      <td>-13.484</td>\n",
       "      <td>889.867</td>\n",
       "      <td>76.320</td>\n",
       "      <td>0.254383</td>\n",
       "      <td>99</td>\n",
       "      <td>1</td>\n",
       "      <td>Winter</td>\n",
       "      <td>1</td>\n",
       "      <td>0</td>\n",
       "    </tr>\n",
       "    <tr>\n",
       "      <th>1</th>\n",
       "      <td>1.828</td>\n",
       "      <td>77.460</td>\n",
       "      <td>1.698</td>\n",
       "      <td>75.048</td>\n",
       "      <td>1.757</td>\n",
       "      <td>88.733</td>\n",
       "      <td>1.882</td>\n",
       "      <td>74.367</td>\n",
       "      <td>-13.691</td>\n",
       "      <td>889.575</td>\n",
       "      <td>76.757</td>\n",
       "      <td>0.329703</td>\n",
       "      <td>99</td>\n",
       "      <td>1</td>\n",
       "      <td>Winter</td>\n",
       "      <td>1</td>\n",
       "      <td>0</td>\n",
       "    </tr>\n",
       "    <tr>\n",
       "      <th>2</th>\n",
       "      <td>2.193</td>\n",
       "      <td>86.700</td>\n",
       "      <td>2.313</td>\n",
       "      <td>84.688</td>\n",
       "      <td>2.344</td>\n",
       "      <td>89.100</td>\n",
       "      <td>2.350</td>\n",
       "      <td>89.000</td>\n",
       "      <td>-13.766</td>\n",
       "      <td>889.942</td>\n",
       "      <td>76.981</td>\n",
       "      <td>0.296306</td>\n",
       "      <td>99</td>\n",
       "      <td>1</td>\n",
       "      <td>Winter</td>\n",
       "      <td>1</td>\n",
       "      <td>0</td>\n",
       "    </tr>\n",
       "    <tr>\n",
       "      <th>3</th>\n",
       "      <td>2.654</td>\n",
       "      <td>78.160</td>\n",
       "      <td>2.494</td>\n",
       "      <td>74.939</td>\n",
       "      <td>2.574</td>\n",
       "      <td>87.267</td>\n",
       "      <td>2.808</td>\n",
       "      <td>82.733</td>\n",
       "      <td>-13.691</td>\n",
       "      <td>889.675</td>\n",
       "      <td>76.821</td>\n",
       "      <td>0.187590</td>\n",
       "      <td>99</td>\n",
       "      <td>1</td>\n",
       "      <td>Winter</td>\n",
       "      <td>1</td>\n",
       "      <td>0</td>\n",
       "    </tr>\n",
       "    <tr>\n",
       "      <th>4</th>\n",
       "      <td>2.249</td>\n",
       "      <td>94.297</td>\n",
       "      <td>2.192</td>\n",
       "      <td>91.140</td>\n",
       "      <td>2.558</td>\n",
       "      <td>96.900</td>\n",
       "      <td>2.924</td>\n",
       "      <td>92.967</td>\n",
       "      <td>-13.447</td>\n",
       "      <td>890.025</td>\n",
       "      <td>74.571</td>\n",
       "      <td>0.081005</td>\n",
       "      <td>99</td>\n",
       "      <td>1</td>\n",
       "      <td>Winter</td>\n",
       "      <td>1</td>\n",
       "      <td>1</td>\n",
       "    </tr>\n",
       "  </tbody>\n",
       "</table>\n",
       "</div>"
      ],
      "text/plain": [
       "   Wind speed at height of 10 meters (m/s)  \\\n",
       "0                                    2.209   \n",
       "1                                    1.828   \n",
       "2                                    2.193   \n",
       "3                                    2.654   \n",
       "4                                    2.249   \n",
       "\n",
       "   Wind direction at height of 10 meters (˚)  \\\n",
       "0                                     81.317   \n",
       "1                                     77.460   \n",
       "2                                     86.700   \n",
       "3                                     78.160   \n",
       "4                                     94.297   \n",
       "\n",
       "   Wind speed at height of 30 meters (m/s)  \\\n",
       "0                                    1.991   \n",
       "1                                    1.698   \n",
       "2                                    2.313   \n",
       "3                                    2.494   \n",
       "4                                    2.192   \n",
       "\n",
       "   Wind direction at height of 30 meters (˚)  \\\n",
       "0                                     74.814   \n",
       "1                                     75.048   \n",
       "2                                     84.688   \n",
       "3                                     74.939   \n",
       "4                                     91.140   \n",
       "\n",
       "   Wind speed at height of 50 meters (m/s)  \\\n",
       "0                                    2.094   \n",
       "1                                    1.757   \n",
       "2                                    2.344   \n",
       "3                                    2.574   \n",
       "4                                    2.558   \n",
       "\n",
       "   Wind direction at height of 50 meters (˚)  \\\n",
       "0                                     77.667   \n",
       "1                                     88.733   \n",
       "2                                     89.100   \n",
       "3                                     87.267   \n",
       "4                                     96.900   \n",
       "\n",
       "   Wind speed - at the height of wheel hub (m/s)  \\\n",
       "0                                          2.494   \n",
       "1                                          1.882   \n",
       "2                                          2.350   \n",
       "3                                          2.808   \n",
       "4                                          2.924   \n",
       "\n",
       "   Wind speed at the height of wheel hub (˚)  Air temperature  (°C)   \\\n",
       "0                                     74.500                 -13.484   \n",
       "1                                     74.367                 -13.691   \n",
       "2                                     89.000                 -13.766   \n",
       "3                                     82.733                 -13.691   \n",
       "4                                     92.967                 -13.447   \n",
       "\n",
       "   Atmosphere (hpa)  Relative humidity (%)  Power (MW)  Nominal Capacity (MW)  \\\n",
       "0           889.867                 76.320    0.254383                     99   \n",
       "1           889.575                 76.757    0.329703                     99   \n",
       "2           889.942                 76.981    0.296306                     99   \n",
       "3           889.675                 76.821    0.187590                     99   \n",
       "4           890.025                 74.571    0.081005                     99   \n",
       "\n",
       "   Month Seasons  Day  Hour  \n",
       "0      1  Winter    1     0  \n",
       "1      1  Winter    1     0  \n",
       "2      1  Winter    1     0  \n",
       "3      1  Winter    1     0  \n",
       "4      1  Winter    1     1  "
      ]
     },
     "execution_count": 29,
     "metadata": {},
     "output_type": "execute_result"
    }
   ],
   "source": [
    "df_wind.head()"
   ]
  },
  {
   "cell_type": "code",
   "execution_count": 30,
   "metadata": {},
   "outputs": [
    {
     "name": "stdout",
     "output_type": "stream",
     "text": [
      "<class 'pandas.core.frame.DataFrame'>\n",
      "Int64Index: 350106 entries, 0 to 350111\n",
      "Data columns (total 12 columns):\n",
      " #   Column                               Non-Null Count   Dtype  \n",
      "---  ------                               --------------   -----  \n",
      " 0   Total solar irradiance (W/m2)        350106 non-null  float64\n",
      " 1   Direct normal irradiance (W/m2)      350106 non-null  float64\n",
      " 2   Global horizontal irradiance (W/m2)  350106 non-null  float64\n",
      " 3   Air temperature  (°C)                350106 non-null  float64\n",
      " 4   Atmosphere (hpa)                     350106 non-null  float64\n",
      " 5   Relative humidity (%)                350106 non-null  float64\n",
      " 6   Power (MW)                           350106 non-null  float64\n",
      " 7   Nominal Capacity (MW)                350106 non-null  int64  \n",
      " 8   Month                                350106 non-null  int64  \n",
      " 9   Seasons                              350106 non-null  object \n",
      " 10  Day                                  350106 non-null  int64  \n",
      " 11  Hour                                 350106 non-null  int64  \n",
      "dtypes: float64(7), int64(4), object(1)\n",
      "memory usage: 34.7+ MB\n"
     ]
    }
   ],
   "source": [
    "df_solar.info()"
   ]
  },
  {
   "cell_type": "code",
   "execution_count": 31,
   "metadata": {},
   "outputs": [
    {
     "name": "stdout",
     "output_type": "stream",
     "text": [
      "<class 'pandas.core.frame.DataFrame'>\n",
      "RangeIndex: 280704 entries, 0 to 280703\n",
      "Data columns (total 17 columns):\n",
      " #   Column                                         Non-Null Count   Dtype  \n",
      "---  ------                                         --------------   -----  \n",
      " 0   Wind speed at height of 10 meters (m/s)        280704 non-null  float64\n",
      " 1   Wind direction at height of 10 meters (˚)      280704 non-null  float64\n",
      " 2   Wind speed at height of 30 meters (m/s)        280704 non-null  float64\n",
      " 3   Wind direction at height of 30 meters (˚)      280704 non-null  float64\n",
      " 4   Wind speed at height of 50 meters (m/s)        280704 non-null  float64\n",
      " 5   Wind direction at height of 50 meters (˚)      280704 non-null  float64\n",
      " 6   Wind speed - at the height of wheel hub (m/s)  280704 non-null  float64\n",
      " 7   Wind speed at the height of wheel hub (˚)      280704 non-null  float64\n",
      " 8   Air temperature  (°C)                          280704 non-null  float64\n",
      " 9   Atmosphere (hpa)                               280704 non-null  float64\n",
      " 10  Relative humidity (%)                          280704 non-null  float64\n",
      " 11  Power (MW)                                     280704 non-null  float64\n",
      " 12  Nominal Capacity (MW)                          280704 non-null  int64  \n",
      " 13  Month                                          280704 non-null  int64  \n",
      " 14  Seasons                                        280704 non-null  object \n",
      " 15  Day                                            280704 non-null  int64  \n",
      " 16  Hour                                           280704 non-null  int64  \n",
      "dtypes: float64(12), int64(4), object(1)\n",
      "memory usage: 36.4+ MB\n"
     ]
    }
   ],
   "source": [
    "df_wind.info()"
   ]
  },
  {
   "cell_type": "code",
   "execution_count": 32,
   "metadata": {},
   "outputs": [],
   "source": [
    "df_wind.drop(['Wind direction at height of 10 meters (˚)','Wind direction at height of 30 meters (˚)','Wind direction at height of 50 meters (˚)','Wind speed at the height of wheel hub (˚)'],axis=1,inplace=True)"
   ]
  },
  {
   "cell_type": "markdown",
   "metadata": {},
   "source": [
    "### Data Visualization"
   ]
  },
  {
   "cell_type": "code",
   "execution_count": 33,
   "metadata": {},
   "outputs": [
    {
     "name": "stderr",
     "output_type": "stream",
     "text": [
      "C:\\Users\\TAPAN\\AppData\\Local\\Temp\\ipykernel_15652\\1407945793.py:1: FutureWarning: The default value of numeric_only in DataFrame.corr is deprecated. In a future version, it will default to False. Select only valid columns or specify the value of numeric_only to silence this warning.\n",
      "  sns.heatmap(df_solar.corr(),cmap='coolwarm')\n"
     ]
    },
    {
     "data": {
      "text/plain": [
       "<Axes: >"
      ]
     },
     "execution_count": 33,
     "metadata": {},
     "output_type": "execute_result"
    },
    {
     "data": {
      "image/png": "[encoded data removed]",
      "text/plain": [
       "<Figure size 640x480 with 2 Axes>"
      ]
     },
     "metadata": {},
     "output_type": "display_data"
    }
   ],
   "source": [
    "sns.heatmap(df_solar.corr(),cmap='coolwarm')"
   ]
  },
  {
   "cell_type": "code",
   "execution_count": 34,
   "metadata": {},
   "outputs": [
    {
     "name": "stderr",
     "output_type": "stream",
     "text": [
      "C:\\Users\\TAPAN\\AppData\\Local\\Temp\\ipykernel_15652\\2763884531.py:1: FutureWarning: The default value of numeric_only in DataFrame.corr is deprecated. In a future version, it will default to False. Select only valid columns or specify the value of numeric_only to silence this warning.\n",
      "  sns.heatmap(df_wind.corr(), cmap='coolwarm')\n"
     ]
    },
    {
     "data": {
      "text/plain": [
       "<Axes: >"
      ]
     },
     "execution_count": 34,
     "metadata": {},
     "output_type": "execute_result"
    },
    {
     "data": {
      "image/png": "[encoded data removed]",
      "text/plain": [
       "<Figure size 640x480 with 2 Axes>"
      ]
     },
     "metadata": {},
     "output_type": "display_data"
    }
   ],
   "source": [
    "sns.heatmap(df_wind.corr(), cmap='coolwarm')"
   ]
  },
  {
   "cell_type": "markdown",
   "metadata": {},
   "source": [
    "### Preparing Data for Modeling"
   ]
  },
  {
   "cell_type": "code",
   "execution_count": 35,
   "metadata": {},
   "outputs": [],
   "source": [
    "solar_features = df_solar[[\n",
    "    'Total solar irradiance (W/m2)', 'Direct normal irradiance (W/m2)', 'Relative humidity (%)', 'Power (MW)']]\n",
    "wind_features = df_wind[['Wind speed at height of 30 meters (m/s)', 'Wind speed at height of 50 meters (m/s)', 'Wind speed - at the height of wheel hub (m/s)', 'Power (MW)']]"
   ]
  },
  {
   "cell_type": "code",
   "execution_count": 36,
   "metadata": {},
   "outputs": [
    {
     "data": {
      "text/html": [
       "<div>\n",
       "<style scoped>\n",
       "    .dataframe tbody tr th:only-of-type {\n",
       "        vertical-align: middle;\n",
       "    }\n",
       "\n",
       "    .dataframe tbody tr th {\n",
       "        vertical-align: top;\n",
       "    }\n",
       "\n",
       "    .dataframe thead th {\n",
       "        text-align: right;\n",
       "    }\n",
       "</style>\n",
       "<table border=\"1\" class=\"dataframe\">\n",
       "  <thead>\n",
       "    <tr style=\"text-align: right;\">\n",
       "      <th></th>\n",
       "      <th>Total solar irradiance (W/m2)</th>\n",
       "      <th>Direct normal irradiance (W/m2)</th>\n",
       "      <th>Relative humidity (%)</th>\n",
       "      <th>Power (MW)</th>\n",
       "    </tr>\n",
       "  </thead>\n",
       "  <tbody>\n",
       "    <tr>\n",
       "      <th>183359</th>\n",
       "      <td>0.0</td>\n",
       "      <td>0.0</td>\n",
       "      <td>83.600000</td>\n",
       "      <td>0.0</td>\n",
       "    </tr>\n",
       "    <tr>\n",
       "      <th>116848</th>\n",
       "      <td>0.0</td>\n",
       "      <td>0.0</td>\n",
       "      <td>100.000000</td>\n",
       "      <td>0.0</td>\n",
       "    </tr>\n",
       "    <tr>\n",
       "      <th>84281</th>\n",
       "      <td>0.0</td>\n",
       "      <td>0.0</td>\n",
       "      <td>91.840000</td>\n",
       "      <td>0.0</td>\n",
       "    </tr>\n",
       "    <tr>\n",
       "      <th>313268</th>\n",
       "      <td>0.0</td>\n",
       "      <td>0.0</td>\n",
       "      <td>74.143509</td>\n",
       "      <td>0.0</td>\n",
       "    </tr>\n",
       "    <tr>\n",
       "      <th>58094</th>\n",
       "      <td>0.0</td>\n",
       "      <td>0.0</td>\n",
       "      <td>84.542000</td>\n",
       "      <td>0.0</td>\n",
       "    </tr>\n",
       "  </tbody>\n",
       "</table>\n",
       "</div>"
      ],
      "text/plain": [
       "        Total solar irradiance (W/m2)  Direct normal irradiance (W/m2)  \\\n",
       "183359                            0.0                              0.0   \n",
       "116848                            0.0                              0.0   \n",
       "84281                             0.0                              0.0   \n",
       "313268                            0.0                              0.0   \n",
       "58094                             0.0                              0.0   \n",
       "\n",
       "        Relative humidity (%)  Power (MW)  \n",
       "183359              83.600000         0.0  \n",
       "116848             100.000000         0.0  \n",
       "84281               91.840000         0.0  \n",
       "313268              74.143509         0.0  \n",
       "58094               84.542000         0.0  "
      ]
     },
     "execution_count": 36,
     "metadata": {},
     "output_type": "execute_result"
    }
   ],
   "source": [
    "solar_features.sample(5)"
   ]
  },
  {
   "cell_type": "code",
   "execution_count": 37,
   "metadata": {},
   "outputs": [
    {
     "data": {
      "text/html": [
       "<div>\n",
       "<style scoped>\n",
       "    .dataframe tbody tr th:only-of-type {\n",
       "        vertical-align: middle;\n",
       "    }\n",
       "\n",
       "    .dataframe tbody tr th {\n",
       "        vertical-align: top;\n",
       "    }\n",
       "\n",
       "    .dataframe thead th {\n",
       "        text-align: right;\n",
       "    }\n",
       "</style>\n",
       "<table border=\"1\" class=\"dataframe\">\n",
       "  <thead>\n",
       "    <tr style=\"text-align: right;\">\n",
       "      <th></th>\n",
       "      <th>Wind speed at height of 30 meters (m/s)</th>\n",
       "      <th>Wind speed at height of 50 meters (m/s)</th>\n",
       "      <th>Wind speed - at the height of wheel hub (m/s)</th>\n",
       "      <th>Power (MW)</th>\n",
       "    </tr>\n",
       "  </thead>\n",
       "  <tbody>\n",
       "    <tr>\n",
       "      <th>6471</th>\n",
       "      <td>7.297</td>\n",
       "      <td>7.736000</td>\n",
       "      <td>7.947000</td>\n",
       "      <td>39.031425</td>\n",
       "    </tr>\n",
       "    <tr>\n",
       "      <th>106731</th>\n",
       "      <td>3.494</td>\n",
       "      <td>3.494000</td>\n",
       "      <td>3.534000</td>\n",
       "      <td>2.409040</td>\n",
       "    </tr>\n",
       "    <tr>\n",
       "      <th>99618</th>\n",
       "      <td>7.263</td>\n",
       "      <td>4.706330</td>\n",
       "      <td>5.984670</td>\n",
       "      <td>37.439900</td>\n",
       "    </tr>\n",
       "    <tr>\n",
       "      <th>210168</th>\n",
       "      <td>5.366</td>\n",
       "      <td>5.583333</td>\n",
       "      <td>6.065333</td>\n",
       "      <td>19.109333</td>\n",
       "    </tr>\n",
       "    <tr>\n",
       "      <th>16829</th>\n",
       "      <td>7.173</td>\n",
       "      <td>7.551000</td>\n",
       "      <td>7.464000</td>\n",
       "      <td>22.690523</td>\n",
       "    </tr>\n",
       "  </tbody>\n",
       "</table>\n",
       "</div>"
      ],
      "text/plain": [
       "        Wind speed at height of 30 meters (m/s)  \\\n",
       "6471                                      7.297   \n",
       "106731                                    3.494   \n",
       "99618                                     7.263   \n",
       "210168                                    5.366   \n",
       "16829                                     7.173   \n",
       "\n",
       "        Wind speed at height of 50 meters (m/s)  \\\n",
       "6471                                   7.736000   \n",
       "106731                                 3.494000   \n",
       "99618                                  4.706330   \n",
       "210168                                 5.583333   \n",
       "16829                                  7.551000   \n",
       "\n",
       "        Wind speed - at the height of wheel hub (m/s)  Power (MW)  \n",
       "6471                                         7.947000   39.031425  \n",
       "106731                                       3.534000    2.409040  \n",
       "99618                                        5.984670   37.439900  \n",
       "210168                                       6.065333   19.109333  \n",
       "16829                                        7.464000   22.690523  "
      ]
     },
     "execution_count": 37,
     "metadata": {},
     "output_type": "execute_result"
    }
   ],
   "source": [
    "wind_features.sample(5)"
   ]
  },
  {
   "cell_type": "code",
   "execution_count": 38,
   "metadata": {
    "comment": "Importing necessary libraries and modules for the notebook."
   },
   "outputs": [],
   "source": [
    "from sklearn.model_selection import train_test_split\n",
    "from sklearn.preprocessing import StandardScaler"
   ]
  },
  {
   "cell_type": "code",
   "execution_count": 39,
   "metadata": {},
   "outputs": [],
   "source": [
    "# Split the solar data into features (X) and target variable (y)\n",
    "X_solar = solar_features.drop(columns=['Power (MW)'])\n",
    "y_solar = solar_features['Power (MW)']"
   ]
  },
  {
   "cell_type": "code",
   "execution_count": 40,
   "metadata": {},
   "outputs": [],
   "source": [
    "# Split the wind data into features (X) and target variable (y)\n",
    "X_wind = wind_features.drop(columns=['Power (MW)'])\n",
    "y_wind = wind_features['Power (MW)']"
   ]
  },
  {
   "cell_type": "code",
   "execution_count": 41,
   "metadata": {
    "comment": "Training phase of the model."
   },
   "outputs": [],
   "source": [
    "# Split data into training and testing sets for solar data\n",
    "X_solar_train, X_solar_test, y_solar_train, y_solar_test = train_test_split(\n",
    "    X_solar, y_solar, test_size=0.2, random_state=42)"
   ]
  },
  {
   "cell_type": "code",
   "execution_count": 42,
   "metadata": {
    "comment": "Training phase of the model."
   },
   "outputs": [],
   "source": [
    "# Split data into training and testing sets for wind data\n",
    "X_wind_train, X_wind_test, y_wind_train, y_wind_test = train_test_split(\n",
    "    X_wind, y_wind, test_size=0.2, random_state=42)"
   ]
  },
  {
   "cell_type": "code",
   "execution_count": 43,
   "metadata": {},
   "outputs": [],
   "source": [
    "# Initialize StandardScaler for solar data\n",
    "scaler_solar = StandardScaler()"
   ]
  },
  {
   "cell_type": "code",
   "execution_count": 44,
   "metadata": {
    "comment": "Training phase of the model."
   },
   "outputs": [],
   "source": [
    "# Fit and transform the scaler on the training data for solar data\n",
    "X_solar_train_scaled = scaler_solar.fit_transform(X_solar_train)\n",
    "\n",
    "# Transform the testing data using the fitted scaler for solar data\n",
    "X_solar_test_scaled = scaler_solar.transform(X_solar_test)"
   ]
  },
  {
   "cell_type": "code",
   "execution_count": 45,
   "metadata": {},
   "outputs": [],
   "source": [
    "# Initialize StandardScaler for wind data\n",
    "scaler_wind = StandardScaler()"
   ]
  },
  {
   "cell_type": "code",
   "execution_count": 46,
   "metadata": {
    "comment": "Training phase of the model."
   },
   "outputs": [],
   "source": [
    "# Fit and transform the scaler on the training data for wind data\n",
    "X_wind_train_scaled = scaler_wind.fit_transform(X_wind_train)\n",
    "\n",
    "# Transform the testing data using the fitted scaler for wind data\n",
    "X_wind_test_scaled = scaler_wind.transform(X_wind_test)"
   ]
  },
  {
   "cell_type": "markdown",
   "metadata": {},
   "source": [
    "### Linear Regression Modeling and Evaluation"
   ]
  },
  {
   "cell_type": "code",
   "execution_count": 47,
   "metadata": {
    "comment": "Importing necessary libraries and modules for the notebook."
   },
   "outputs": [],
   "source": [
    "from sklearn.linear_model import LinearRegression\n",
    "from sklearn.metrics import mean_squared_error, mean_absolute_error"
   ]
  },
  {
   "cell_type": "code",
   "execution_count": 48,
   "metadata": {
    "comment": "Model definition or usage."
   },
   "outputs": [],
   "source": [
    "# Initialize Linear Regression models for solar and wind data\n",
    "solar_lr = LinearRegression()\n",
    "wind_lr = LinearRegression()"
   ]
  },
  {
   "cell_type": "code",
   "execution_count": 49,
   "metadata": {
    "comment": "Model definition or usage."
   },
   "outputs": [
    {
     "data": {
      "text/html": [
       "<style>#sk-container-id-1 {color: black;}#sk-container-id-1 pre{padding: 0;}#sk-container-id-1 div.sk-toggleable {background-color: white;}#sk-container-id-1 label.sk-toggleable__label {cursor: pointer;display: block;width: 100%;margin-bottom: 0;padding: 0.3em;box-sizing: border-box;text-align: center;}#sk-container-id-1 label.sk-toggleable__label-arrow:before {content: \"▸\";float: left;margin-right: 0.25em;color: #696969;}#sk-container-id-1 label.sk-toggleable__label-arrow:hover:before {color: black;}#sk-container-id-1 div.sk-estimator:hover label.sk-toggleable__label-arrow:before {color: black;}#sk-container-id-1 div.sk-toggleable__content {max-height: 0;max-width: 0;overflow: hidden;text-align: left;background-color: #f0f8ff;}#sk-container-id-1 div.sk-toggleable__content pre {margin: 0.2em;color: black;border-radius: 0.25em;background-color: #f0f8ff;}#sk-container-id-1 input.sk-toggleable__control:checked~div.sk-toggleable__content {max-height: 200px;max-width: 100%;overflow: auto;}#sk-container-id-1 input.sk-toggleable__control:checked~label.sk-toggleable__label-arrow:before {content: \"▾\";}#sk-container-id-1 div.sk-estimator input.sk-toggleable__control:checked~label.sk-toggleable__label {background-color: #d4ebff;}#sk-container-id-1 div.sk-label input.sk-toggleable__control:checked~label.sk-toggleable__label {background-color: #d4ebff;}#sk-container-id-1 input.sk-hidden--visually {border: 0;clip: rect(1px 1px 1px 1px);clip: rect(1px, 1px, 1px, 1px);height: 1px;margin: -1px;overflow: hidden;padding: 0;position: absolute;width: 1px;}#sk-container-id-1 div.sk-estimator {font-family: monospace;background-color: #f0f8ff;border: 1px dotted black;border-radius: 0.25em;box-sizing: border-box;margin-bottom: 0.5em;}#sk-container-id-1 div.sk-estimator:hover {background-color: #d4ebff;}#sk-container-id-1 div.sk-parallel-item::after {content: \"\";width: 100%;border-bottom: 1px solid gray;flex-grow: 1;}#sk-container-id-1 div.sk-label:hover label.sk-toggleable__label {background-color: #d4ebff;}#sk-container-id-1 div.sk-serial::before {content: \"\";position: absolute;border-left: 1px solid gray;box-sizing: border-box;top: 0;bottom: 0;left: 50%;z-index: 0;}#sk-container-id-1 div.sk-serial {display: flex;flex-direction: column;align-items: center;background-color: white;padding-right: 0.2em;padding-left: 0.2em;position: relative;}#sk-container-id-1 div.sk-item {position: relative;z-index: 1;}#sk-container-id-1 div.sk-parallel {display: flex;align-items: stretch;justify-content: center;background-color: white;position: relative;}#sk-container-id-1 div.sk-item::before, #sk-container-id-1 div.sk-parallel-item::before {content: \"\";position: absolute;border-left: 1px solid gray;box-sizing: border-box;top: 0;bottom: 0;left: 50%;z-index: -1;}#sk-container-id-1 div.sk-parallel-item {display: flex;flex-direction: column;z-index: 1;position: relative;background-color: white;}#sk-container-id-1 div.sk-parallel-item:first-child::after {align-self: flex-end;width: 50%;}#sk-container-id-1 div.sk-parallel-item:last-child::after {align-self: flex-start;width: 50%;}#sk-container-id-1 div.sk-parallel-item:only-child::after {width: 0;}#sk-container-id-1 div.sk-dashed-wrapped {border: 1px dashed gray;margin: 0 0.4em 0.5em 0.4em;box-sizing: border-box;padding-bottom: 0.4em;background-color: white;}#sk-container-id-1 div.sk-label label {font-family: monospace;font-weight: bold;display: inline-block;line-height: 1.2em;}#sk-container-id-1 div.sk-label-container {text-align: center;}#sk-container-id-1 div.sk-container {/* jupyter's `normalize.less` sets `[hidden] { display: none; }` but bootstrap.min.css set `[hidden] { display: none !important; }` so we also need the `!important` here to be able to override the default hidden behavior on the sphinx rendered scikit-learn.org. See: https://github.com/scikit-learn/scikit-learn/issues/21755 */display: inline-block !important;position: relative;}#sk-container-id-1 div.sk-text-repr-fallback {display: none;}</style><div id=\"sk-container-id-1\" class=\"sk-top-container\"><div class=\"sk-text-repr-fallback\"><pre>LinearRegression()</pre><b>In a Jupyter environment, please rerun this cell to show the HTML representation or trust the notebook. <br />On GitHub, the HTML representation is unable to render, please try loading this page with nbviewer.org.</b></div><div class=\"sk-container\" hidden><div class=\"sk-item\"><div class=\"sk-estimator sk-toggleable\"><input class=\"sk-toggleable__control sk-hidden--visually\" id=\"sk-estimator-id-1\" type=\"checkbox\" checked><label for=\"sk-estimator-id-1\" class=\"sk-toggleable__label sk-toggleable__label-arrow\">LinearRegression</label><div class=\"sk-toggleable__content\"><pre>LinearRegression()</pre></div></div></div></div></div>"
      ],
      "text/plain": [
       "LinearRegression()"
      ]
     },
     "execution_count": 49,
     "metadata": {},
     "output_type": "execute_result"
    }
   ],
   "source": [
    "# Fit the Linear Regression models to the scaled training data\n",
    "solar_lr.fit(X_solar_train_scaled, y_solar_train)\n",
    "wind_lr.fit(X_wind_train_scaled, y_wind_train)"
   ]
  },
  {
   "cell_type": "code",
   "execution_count": 50,
   "metadata": {},
   "outputs": [],
   "source": [
    "# Predict on the testing set for solar and wind data\n",
    "solar_pred_lr = solar_lr.predict(X_solar_test_scaled)\n",
    "wind_pred_lr = wind_lr.predict(X_wind_test_scaled)"
   ]
  },
  {
   "cell_type": "code",
   "execution_count": 51,
   "metadata": {
    "comment": "Model definition or usage."
   },
   "outputs": [],
   "source": [
    "# Evaluate the performance of Linear Regression models for solar and wind data\n",
    "solar_mae_lr = mean_absolute_error(y_solar_test, solar_pred_lr)\n",
    "solar_rmse_lr = mean_squared_error(y_solar_test, solar_pred_lr, squared=False)\n",
    "\n",
    "wind_mae_lr = mean_absolute_error(y_wind_test, wind_pred_lr)\n",
    "wind_rmse_lr = mean_squared_error(y_wind_test, wind_pred_lr, squared=False)"
   ]
  },
  {
   "cell_type": "code",
   "execution_count": 52,
   "metadata": {},
   "outputs": [
    {
     "name": "stdout",
     "output_type": "stream",
     "text": [
      "Solar Data Linear Regression Evaluation Metrics:\n",
      "Mean Absolute Error (MAE): 6.519816848895459\n",
      "Root Mean Squared Error (RMSE): 12.183579837646427\n",
      "\n",
      "Wind Data Linear Regression Evaluation Metrics:\n",
      "Mean Absolute Error (MAE): 9.636758305100065\n",
      "Root Mean Squared Error (RMSE): 13.307345012689801\n"
     ]
    }
   ],
   "source": [
    "print(\"Solar Data Linear Regression Evaluation Metrics:\")\n",
    "print(\"Mean Absolute Error (MAE):\", solar_mae_lr)\n",
    "print(\"Root Mean Squared Error (RMSE):\", solar_rmse_lr)\n",
    "\n",
    "print(\"\\nWind Data Linear Regression Evaluation Metrics:\")\n",
    "print(\"Mean Absolute Error (MAE):\", wind_mae_lr)\n",
    "print(\"Root Mean Squared Error (RMSE):\", wind_rmse_lr)"
   ]
  },
  {
   "cell_type": "code",
   "execution_count": 53,
   "metadata": {
    "comment": "Training phase of the model."
   },
   "outputs": [],
   "source": [
    "# Predict on the training set for solar and wind data\n",
    "solar_train_pred_lr = solar_lr.predict(X_solar_train_scaled)\n",
    "wind_train_pred_lr = wind_lr.predict(X_wind_train_scaled)"
   ]
  },
  {
   "cell_type": "code",
   "execution_count": 54,
   "metadata": {
    "comment": "Model definition or usage."
   },
   "outputs": [],
   "source": [
    "# Evaluate the performance of Linear Regression models on the training set for solar and wind data\n",
    "solar_train_mae_lr = mean_absolute_error(y_solar_train, solar_train_pred_lr)\n",
    "solar_train_rmse_lr = mean_squared_error(\n",
    "    y_solar_train, solar_train_pred_lr, squared=False)"
   ]
  },
  {
   "cell_type": "code",
   "execution_count": 55,
   "metadata": {
    "comment": "Training phase of the model."
   },
   "outputs": [],
   "source": [
    "wind_train_mae_lr = mean_absolute_error(y_wind_train, wind_train_pred_lr)\n",
    "wind_train_rmse_lr = mean_squared_error(\n",
    "    y_wind_train, wind_train_pred_lr, squared=False)"
   ]
  },
  {
   "cell_type": "code",
   "execution_count": 56,
   "metadata": {
    "comment": "Training phase of the model."
   },
   "outputs": [
    {
     "name": "stdout",
     "output_type": "stream",
     "text": [
      "\n",
      "Comparison of Solar Data Performance Metrics (Training vs Testing):\n",
      "MAE (Training): 6.522905557809343\n",
      "MAE (Testing): 6.519816848895459\n",
      "RMSE (Training): 12.162378771897142\n",
      "RMSE (Testing): 12.183579837646427\n"
     ]
    }
   ],
   "source": [
    "# Compare training and testing performance metrics for solar data\n",
    "print(\"\\nComparison of Solar Data Performance Metrics (Training vs Testing):\")\n",
    "print(\"MAE (Training):\", solar_train_mae_lr)\n",
    "print(\"MAE (Testing):\", solar_mae_lr)\n",
    "print(\"RMSE (Training):\", solar_train_rmse_lr)\n",
    "print(\"RMSE (Testing):\", solar_rmse_lr)"
   ]
  },
  {
   "cell_type": "code",
   "execution_count": 57,
   "metadata": {
    "comment": "Training phase of the model."
   },
   "outputs": [
    {
     "name": "stdout",
     "output_type": "stream",
     "text": [
      "\n",
      "Comparison of Wind Data Performance Metrics (Training vs Testing):\n",
      "MAE (Training): 9.63137185936027\n",
      "MAE (Testing): 9.636758305100065\n",
      "RMSE (Training): 13.371277494970238\n",
      "RMSE (Testing): 13.307345012689801\n"
     ]
    }
   ],
   "source": [
    "# Compare training and testing performance metrics for wind data\n",
    "print(\"\\nComparison of Wind Data Performance Metrics (Training vs Testing):\")\n",
    "print(\"MAE (Training):\", wind_train_mae_lr)\n",
    "print(\"MAE (Testing):\", wind_mae_lr)\n",
    "print(\"RMSE (Training):\", wind_train_rmse_lr)\n",
    "print(\"RMSE (Testing):\", wind_rmse_lr)"
   ]
  }
 ],
 "metadata": {
  "kernelspec": {
   "display_name": "Python 3",
   "language": "python",
   "name": "python3"
  },
  "language_info": {
   "codemirror_mode": {
    "name": "ipython",
    "version": 3
   },
   "file_extension": ".py",
   "mimetype": "text/x-python",
   "name": "python",
   "nbconvert_exporter": "python",
   "pygments_lexer": "ipython3",
   "version": "3.11.2"
  }
 },
 "nbformat": 4,
 "nbformat_minor": 2
}
